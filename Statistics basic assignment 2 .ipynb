{
 "cells": [
  {
   "cell_type": "code",
   "execution_count": null,
   "id": "15639b5d",
   "metadata": {},
   "outputs": [],
   "source": [
    "# QUESTION 1 \n",
    "'''There are three main central tendeancy is mean ,median and mode''' "
   ]
  },
  {
   "cell_type": "code",
   "execution_count": null,
   "id": "702b24ec",
   "metadata": {},
   "outputs": [],
   "source": [
    "# QUESTION 2 \n",
    "'''Mean:\n",
    "The mean is also known as the average and is calculated by summing up all the values in the dataset and the\n",
    "n dividing by the total number of values. The formula for calculating the mean is:\n",
    "Mean = (Sum of all values) / (Number of values)\n",
    "The mean is sensitive to extreme values, also known as outliers, as it takes into account the magnitude of\n",
    "each data point. If there are extreme values in the dataset, they can significantly influence the mean.\n",
    "\n",
    "Median:\n",
    "The median is the middle value of a dataset when it is arranged in ascending or descending order. If the da\n",
    "taset has an odd number of values, the median is the middle value itself. If the dataset has an even number\n",
    "of values, the median is the average of the two middle values. To calculate the median, you first sort the\n",
    "data and then find the middle value.\n",
    "The median is more robust to outliers compared to the mean. Outliers have little impact on the median as \n",
    "it only considers the position of the middle value and not its magnitude.\n",
    "\n",
    "Mode:\n",
    "The mode is the value that appears most frequently in a dataset. In other words, it is the value that occur\n",
    "s with the highest frequency. A dataset can have one mode (unimodal) or multiple modes (bimodal, trimodal, \n",
    "etc.), or it can be multimodal (more than two modes).'''"
   ]
  },
  {
   "cell_type": "code",
   "execution_count": null,
   "id": "03750d80",
   "metadata": {},
   "outputs": [],
   "source": [
    "# QUESTION 3 \n",
    "height = [178,177,176,177,178.2,178,175,179,180,175,178.9,176.2,177,172.5,178,176.5]"
   ]
  },
  {
   "cell_type": "code",
   "execution_count": 6,
   "id": "1a9bb7c6",
   "metadata": {},
   "outputs": [],
   "source": [
    "import numpy as np "
   ]
  },
  {
   "cell_type": "code",
   "execution_count": 7,
   "id": "b807c6f0",
   "metadata": {},
   "outputs": [
    {
     "data": {
      "text/plain": [
       "177.01875"
      ]
     },
     "execution_count": 7,
     "metadata": {},
     "output_type": "execute_result"
    }
   ],
   "source": [
    "np.mean(height)"
   ]
  },
  {
   "cell_type": "code",
   "execution_count": 8,
   "id": "84b2feb1",
   "metadata": {},
   "outputs": [
    {
     "data": {
      "text/plain": [
       "177.0"
      ]
     },
     "execution_count": 8,
     "metadata": {},
     "output_type": "execute_result"
    }
   ],
   "source": [
    "np.median(height)"
   ]
  },
  {
   "cell_type": "code",
   "execution_count": 16,
   "id": "04cc9f6b",
   "metadata": {},
   "outputs": [],
   "source": [
    "from statistics  import mean , median,mode"
   ]
  },
  {
   "cell_type": "code",
   "execution_count": 17,
   "id": "5bde181a",
   "metadata": {},
   "outputs": [
    {
     "data": {
      "text/plain": [
       "178"
      ]
     },
     "execution_count": 17,
     "metadata": {},
     "output_type": "execute_result"
    }
   ],
   "source": [
    "mode([178,177,176,177,178.2,178,175,179,180,175,178.9,176.2,177,172.5,178,176.5])"
   ]
  },
  {
   "cell_type": "code",
   "execution_count": 19,
   "id": "48d81c8e",
   "metadata": {},
   "outputs": [
    {
     "data": {
      "text/plain": [
       "1.7885814036548633"
      ]
     },
     "execution_count": 19,
     "metadata": {},
     "output_type": "execute_result"
    }
   ],
   "source": [
    "# QUESTION 4\n",
    "data = [178,177,176,177,178.2,178,175,179,180,175,178.9,176.2,177,172.5,178,176.5]\n",
    "np.std(data)"
   ]
  },
  {
   "cell_type": "code",
   "execution_count": 20,
   "id": "86fd79a5",
   "metadata": {},
   "outputs": [
    {
     "data": {
      "text/plain": [
       "\"Range:\\nThe range is the simplest measure of dispersion and is calculated as the difference between the maximum and\\nminimum values in the dataset. It provides an idea of how spread out the entire dataset is but doesn't take\\ninto account the individual data points' distribution.\\nExample: Consider the following dataset of exam scores:\\n{65, 78, 72, 85, 90, 60, 95}\\nThe range is calculated as:\\nRange = Maximum value - Minimum value\\nRange = 95 - 60 = 35\\nIn this example, the range is 35, indicating that the exam scores vary by 35 points from the lowest to the\\nhighest score.\\n\\nVariance:\\nVariance measures the average squared deviation of each data point from the mean. It gives us an idea of \\nhow much the individual data points deviate from the mean. A higher variance indicates more variability in\\nthe data.\\nExample: Using the same dataset of exam scores, let's calculate the variance:\\n\\nStep 1: Calculate the mean\\nMean = (65 + 78 + 72 + 85 + 90 + 60 + 95) / 7\\nMean = 75.71 (approximately)\\n\\nStep 2: Calculate the squared deviation of each data point from the mean\\nSquared Deviation = (Data Point - Mean)^2\\nSquared Deviations = (65 - 75.71)^2 + (78 - 75.71)^2 + (72 - 75.71)^2 + (85 - 75.71)^2 + (90 - 75.71)^2 + \\n(60 - 75.71)^2 + (95 - 75.71)^2\\n\\nStep 3: Calculate the variance\\nVariance = Sum of Squared Deviations / Number of Data Points\\nVariance ≈ 211.61\\n\\nThe variance for this dataset is approximately 211.61.\\n\\nStandard Deviation:\\nThe standard deviation is the square root of the variance and provides a more easily interpretable measure \\nof dispersion. It gives the average amount of deviation from the mean, allowing us to understand the spread\\nof data in the original units of measurement.\\nExample: Continuing with the same dataset of exam scores, let's calculate the standard deviation:\\n\\nStandard Deviation ≈ √Variance ≈ √211.61 ≈ 14.55 (approximately)\\n\\nThe standard deviation for this dataset is approximately 14.55. It indicates that, on average, the exam \\nscores deviate from the mean by around 14.55 points.\""
      ]
     },
     "execution_count": 20,
     "metadata": {},
     "output_type": "execute_result"
    }
   ],
   "source": [
    "#QUESTION 5 \n",
    "'''Range:\n",
    "The range is the simplest measure of dispersion and is calculated as the difference between the maximum and\n",
    "minimum values in the dataset. It provides an idea of how spread out the entire dataset is but doesn't take\n",
    "into account the individual data points' distribution.\n",
    "Example: Consider the following dataset of exam scores:\n",
    "{65, 78, 72, 85, 90, 60, 95}\n",
    "The range is calculated as:\n",
    "Range = Maximum value - Minimum value\n",
    "Range = 95 - 60 = 35\n",
    "In this example, the range is 35, indicating that the exam scores vary by 35 points from the lowest to the\n",
    "highest score.\n",
    "\n",
    "Variance:\n",
    "Variance measures the average squared deviation of each data point from the mean. It gives us an idea of \n",
    "how much the individual data points deviate from the mean. A higher variance indicates more variability in\n",
    "the data.\n",
    "Example: Using the same dataset of exam scores, let's calculate the variance:\n",
    "\n",
    "Step 1: Calculate the mean\n",
    "Mean = (65 + 78 + 72 + 85 + 90 + 60 + 95) / 7\n",
    "Mean = 75.71 (approximately)\n",
    "\n",
    "Step 2: Calculate the squared deviation of each data point from the mean\n",
    "Squared Deviation = (Data Point - Mean)^2\n",
    "Squared Deviations = (65 - 75.71)^2 + (78 - 75.71)^2 + (72 - 75.71)^2 + (85 - 75.71)^2 + (90 - 75.71)^2 + \n",
    "(60 - 75.71)^2 + (95 - 75.71)^2\n",
    "\n",
    "Step 3: Calculate the variance\n",
    "Variance = Sum of Squared Deviations / Number of Data Points\n",
    "Variance ≈ 211.61\n",
    "\n",
    "The variance for this dataset is approximately 211.61.\n",
    "\n",
    "Standard Deviation:\n",
    "The standard deviation is the square root of the variance and provides a more easily interpretable measure \n",
    "of dispersion. It gives the average amount of deviation from the mean, allowing us to understand the spread\n",
    "of data in the original units of measurement.\n",
    "Example: Continuing with the same dataset of exam scores, let's calculate the standard deviation:\n",
    "\n",
    "Standard Deviation ≈ √Variance ≈ √211.61 ≈ 14.55 (approximately)\n",
    "\n",
    "The standard deviation for this dataset is approximately 14.55. It indicates that, on average, the exam \n",
    "scores deviate from the mean by around 14.55 points.'''"
   ]
  },
  {
   "cell_type": "code",
   "execution_count": 21,
   "id": "54be9211",
   "metadata": {},
   "outputs": [
    {
     "data": {
      "text/plain": [
       "'A Venn diagram is a visual representation used to show the relationships between different sets or groups. \\nIt consists of overlapping circles or ellipses, with each circle representing a specific set, and the overl\\napping regions representing the elements that belong to both sets.'"
      ]
     },
     "execution_count": 21,
     "metadata": {},
     "output_type": "execute_result"
    }
   ],
   "source": [
    "# QUESTION 6 \n",
    "'''A Venn diagram is a visual representation used to show the relationships between different sets or groups. \n",
    "It consists of overlapping circles or ellipses, with each circle representing a specific set, and the overl\n",
    "apping regions representing the elements that belong to both sets.'''"
   ]
  },
  {
   "cell_type": "code",
   "execution_count": 24,
   "id": "d2b681f4",
   "metadata": {},
   "outputs": [
    {
     "name": "stdout",
     "output_type": "stream",
     "text": [
      "{2, 6}\n",
      "{0, 2, 3, 4, 5, 6, 7, 8, 10}\n"
     ]
    }
   ],
   "source": [
    "# QUESTION 7 \n",
    "setA = {2,3,4,5,6,7} \n",
    "setB  = {0,2,6,8,10}\n",
    "print(setA & setB) # intersection of two sets \n",
    "print(setA | setB ) # union of two sets "
   ]
  },
  {
   "cell_type": "code",
   "execution_count": 25,
   "id": "9b465413",
   "metadata": {},
   "outputs": [
    {
     "data": {
      "text/plain": [
       "\"Skewness is a statistical measure that quantifies the asymmetry of the probability distribution of a datase\\nt. In other words, it measures the lack of symmetry in the data's distribution. When a dataset is skewed, \\nit means that the data points are not evenly distributed around the central tendency (mean, median, or mode\\n).\""
      ]
     },
     "execution_count": 25,
     "metadata": {},
     "output_type": "execute_result"
    }
   ],
   "source": [
    "# QUESTION 8 \n",
    "'''Skewness is a statistical measure that quantifies the asymmetry of the probability distribution of a datase\n",
    "t. In other words, it measures the lack of symmetry in the data's distribution. When a dataset is skewed, \n",
    "it means that the data points are not evenly distributed around the central tendency (mean, median, or mode\n",
    ").'''"
   ]
  },
  {
   "cell_type": "code",
   "execution_count": 26,
   "id": "ef947732",
   "metadata": {},
   "outputs": [
    {
     "data": {
      "text/plain": [
       "'If a dataset is right-skewed, the median will be located to the left of the mean.'"
      ]
     },
     "execution_count": 26,
     "metadata": {},
     "output_type": "execute_result"
    }
   ],
   "source": [
    "# QUESTION 9 :\n",
    "'''If a dataset is right-skewed, the median will be located to the left of the mean.'''"
   ]
  },
  {
   "cell_type": "code",
   "execution_count": 27,
   "id": "9478071f",
   "metadata": {},
   "outputs": [
    {
     "data": {
      "text/plain": [
       "\"Covariance:\\nCovariance measures the degree to which two variables change together. It can be positive, indicating that\\nwhen one variable increases, the other tends to increase as well. It can also be negative, indicating an i\\nnverse relationship, where one variable tends to decrease as the other increases. A covariance of zero mean\\ns there is no linear relationship between the variables.\\nThe formula for calculating the covariance of two variables X and Y based on a dataset with n data points\\nis:\\n\\nCov(X, Y) = Σ[(X_i - X̄) * (Y_i - Ȳ)] / n\\n\\nwhere:\\n\\nX̄ is the mean of X\\nȲ is the mean of Y\\n(X_i, Y_i) represents each data point (X and Y values) in the dataset\\nHowever, the magnitude of covariance doesn't provide a standardized measure of the strength of the relation\\nship since it depends on the units of the variables.\\n\\nCorrelation:\\nCorrelation is a standardized version of covariance, which measures both the strength and direction of the \\nlinear relationship between two variables. It always falls between -1 and 1, where -1 indicates a perfect \\nnegative linear relationship, 1 indicates a perfect positive linear relationship, and 0 indicates no linear relationship.\\nThe most commonly used method for calculating correlation is Pearson correlation coefficient, which is \\ngiven by:\\n\\nCorrelation(X, Y) = Cov(X, Y) / (σ_X * σ_Y)\\n\\nwhere:\\n\\nCov(X, Y) is the covariance between X and Y\\nσ_X is the standard deviation of X\\nσ_Y is the standard deviation of Y\\nThe correlation coefficient standardizes the covariance by dividing it by the product of the standard devia\\ntions of the variables. This normalization allows us to compare the strength of the relationship between di\\nfferent pairs of variables regardless of their scales.\\n\\nUsage in statistical analysis:\\n\\nCovariance: Covariance is used to identify the direction of the relationship between two variables. A posit\\nive covariance indicates a positive relationship, while a negative covariance indicates a negative relation\\nship. However, it doesn't provide a standardized measure of the strength of the relationship and is sensiti\\nve to the scales of the variables.\\n\\nCorrelation: Correlation is widely used in statistical analysis because it provides a standardized measure \\nof the strength and direction of the linear relationship between variables. It allows researchers to compar\\ne the relationships between different pairs of variables more easily. Correlation is often used in fields \\nsuch as finance, economics, social sciences, and any domain where understanding the relationships between \\nvariables is essential.\""
      ]
     },
     "execution_count": 27,
     "metadata": {},
     "output_type": "execute_result"
    }
   ],
   "source": [
    "# QUESTION 10 \n",
    "'''Covariance:\n",
    "Covariance measures the degree to which two variables change together. It can be positive, indicating that\n",
    "when one variable increases, the other tends to increase as well. It can also be negative, indicating an i\n",
    "nverse relationship, where one variable tends to decrease as the other increases. A covariance of zero mean\n",
    "s there is no linear relationship between the variables.\n",
    "The formula for calculating the covariance of two variables X and Y based on a dataset with n data points\n",
    "is:\n",
    "\n",
    "Cov(X, Y) = Σ[(X_i - X̄) * (Y_i - Ȳ)] / n\n",
    "\n",
    "where:\n",
    "\n",
    "X̄ is the mean of X\n",
    "Ȳ is the mean of Y\n",
    "(X_i, Y_i) represents each data point (X and Y values) in the dataset\n",
    "However, the magnitude of covariance doesn't provide a standardized measure of the strength of the relation\n",
    "ship since it depends on the units of the variables.\n",
    "\n",
    "Correlation:\n",
    "Correlation is a standardized version of covariance, which measures both the strength and direction of the \n",
    "linear relationship between two variables. It always falls between -1 and 1, where -1 indicates a perfect \n",
    "negative linear relationship, 1 indicates a perfect positive linear relationship, and 0 indicates no linear relationship.\n",
    "The most commonly used method for calculating correlation is Pearson correlation coefficient, which is \n",
    "given by:\n",
    "\n",
    "Correlation(X, Y) = Cov(X, Y) / (σ_X * σ_Y)\n",
    "\n",
    "where:\n",
    "\n",
    "Cov(X, Y) is the covariance between X and Y\n",
    "σ_X is the standard deviation of X\n",
    "σ_Y is the standard deviation of Y\n",
    "The correlation coefficient standardizes the covariance by dividing it by the product of the standard devia\n",
    "tions of the variables. This normalization allows us to compare the strength of the relationship between di\n",
    "fferent pairs of variables regardless of their scales.\n",
    "\n",
    "Usage in statistical analysis:\n",
    "\n",
    "Covariance: Covariance is used to identify the direction of the relationship between two variables. A posit\n",
    "ive covariance indicates a positive relationship, while a negative covariance indicates a negative relation\n",
    "ship. However, it doesn't provide a standardized measure of the strength of the relationship and is sensiti\n",
    "ve to the scales of the variables.\n",
    "\n",
    "Correlation: Correlation is widely used in statistical analysis because it provides a standardized measure \n",
    "of the strength and direction of the linear relationship between variables. It allows researchers to compar\n",
    "e the relationships between different pairs of variables more easily. Correlation is often used in fields \n",
    "such as finance, economics, social sciences, and any domain where understanding the relationships between \n",
    "variables is essential.'''\n",
    "\n"
   ]
  },
  {
   "cell_type": "code",
   "execution_count": 30,
   "id": "33e41422",
   "metadata": {},
   "outputs": [
    {
     "data": {
      "text/plain": [
       "87.75"
      ]
     },
     "execution_count": 30,
     "metadata": {},
     "output_type": "execute_result"
    }
   ],
   "source": [
    "# QUESTION  11\n",
    "'''Sample Mean (x̄) = (Sum of all values in the dataset) / (Number of data points)'''\n",
    "d1 = [85, 90, 78, 92, 88, 85, 95, 89]\n",
    "np.mean(d1)"
   ]
  },
  {
   "cell_type": "code",
   "execution_count": 31,
   "id": "407febad",
   "metadata": {},
   "outputs": [
    {
     "data": {
      "text/plain": [
       "'mean > median > mode '"
      ]
     },
     "execution_count": 31,
     "metadata": {},
     "output_type": "execute_result"
    }
   ],
   "source": [
    "# QUESTION 12 \n",
    "'''mean > median > mode '''"
   ]
  },
  {
   "cell_type": "code",
   "execution_count": 32,
   "id": "3bf73149",
   "metadata": {},
   "outputs": [
    {
     "data": {
      "text/plain": [
       "'Covariance: Covariance measures the degree to which two variables change together. It indicates whether \\nthe variables tend to increase or decrease together. A positive covariance means that when one variable\\nincreases, the other tends to increase as well, and a negative covariance means that when one variable \\nincreases, the other tends to decrease.\\nCorrelation: Correlation is a standardized version of covariance. It measures both the strength and directi\\non of the linear relationship between two variables. It always falls between -1 and 1, where -1 indicat\\nes a perfect negative linear relationship, 1 indicates a perfect positive linear relationship, and 0 i\\nndicates no linear relationship.'"
      ]
     },
     "execution_count": 32,
     "metadata": {},
     "output_type": "execute_result"
    }
   ],
   "source": [
    "# QUESTION 13 \n",
    "'''Covariance: Covariance measures the degree to which two variables change together. It indicates whether \n",
    "the variables tend to increase or decrease together. A positive covariance means that when one variable\n",
    "increases, the other tends to increase as well, and a negative covariance means that when one variable \n",
    "increases, the other tends to decrease.\n",
    "Correlation: Correlation is a standardized version of covariance. It measures both the strength and directi\n",
    "on of the linear relationship between two variables. It always falls between -1 and 1, where -1 indicat\n",
    "es a perfect negative linear relationship, 1 indicates a perfect positive linear relationship, and 0 i\n",
    "ndicates no linear relationship.'''"
   ]
  },
  {
   "cell_type": "code",
   "execution_count": 33,
   "id": "f20d10ba",
   "metadata": {},
   "outputs": [
    {
     "data": {
      "text/plain": [
       "'Outliers can have a significant impact on measures of central tendency and dispersion in a dataset. An outl\\nier is an observation that differs significantly from other data points in the dataset and can distort the\\noverall picture of the data. Lets explore how outliers can affect measures of central tendency and disper\\nsion, using an example dataset:\\n\\nExample dataset without outliers: {10, 15, 12, 18, 20}\\n\\nExample dataset with outliers: {10, 15, 12, 18, 20, 1000}'"
      ]
     },
     "execution_count": 33,
     "metadata": {},
     "output_type": "execute_result"
    }
   ],
   "source": [
    "# QUESTION 14 \n",
    "'''Outliers can have a significant impact on measures of central tendency and dispersion in a dataset. An outl\n",
    "ier is an observation that differs significantly from other data points in the dataset and can distort the\n",
    "overall picture of the data. Lets explore how outliers can affect measures of central tendency and disper\n",
    "sion, using an example dataset:\n",
    "\n",
    "Example dataset without outliers: {10, 15, 12, 18, 20}\n",
    "\n",
    "Example dataset with outliers: {10, 15, 12, 18, 20, 1000}'''"
   ]
  },
  {
   "cell_type": "code",
   "execution_count": null,
   "id": "129872a9",
   "metadata": {},
   "outputs": [],
   "source": []
  }
 ],
 "metadata": {
  "kernelspec": {
   "display_name": "Python 3 (ipykernel)",
   "language": "python",
   "name": "python3"
  },
  "language_info": {
   "codemirror_mode": {
    "name": "ipython",
    "version": 3
   },
   "file_extension": ".py",
   "mimetype": "text/x-python",
   "name": "python",
   "nbconvert_exporter": "python",
   "pygments_lexer": "ipython3",
   "version": "3.11.2"
  }
 },
 "nbformat": 4,
 "nbformat_minor": 5
}
